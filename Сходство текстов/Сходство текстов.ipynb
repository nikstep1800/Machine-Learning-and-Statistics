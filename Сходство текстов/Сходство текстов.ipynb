{
 "cells": [
  {
   "cell_type": "code",
   "execution_count": 2,
   "metadata": {},
   "outputs": [],
   "source": [
    "import re\n",
    "import operator\n",
    "import numpy as np\n",
    "from scipy import spatial as sp"
   ]
  },
  {
   "cell_type": "code",
   "execution_count": 3,
   "metadata": {},
   "outputs": [
    {
     "name": "stdout",
     "output_type": "stream",
     "text": [
      "[[1 1 1 ... 0 0 0]\n",
      " [0 0 1 ... 0 0 0]\n",
      " [0 0 2 ... 0 0 0]\n",
      " ...\n",
      " [0 0 0 ... 0 0 0]\n",
      " [1 0 1 ... 0 0 0]\n",
      " [0 0 1 ... 1 1 1]]\n",
      "[(0, 0.0), (6, 0.73), (4, 0.78), (10, 0.83), (21, 0.83), (12, 0.84), (16, 0.84), (20, 0.84), (2, 0.86), (13, 0.87), (14, 0.87), (8, 0.88), (11, 0.88), (19, 0.89), (3, 0.9), (9, 0.91), (7, 0.93), (5, 0.94), (15, 0.94), (18, 0.94), (1, 0.95), (17, 0.96)]\n"
     ]
    }
   ],
   "source": [
    "file = open('sent.txt', 'r')\n",
    "lines = (sum(1 for line in open('sent.txt', 'r'))) # подсчитываем колличество строк\n",
    "# считываем файл в строки, приводя к нижнему регистру,\n",
    "# проводим токенезацию,\n",
    "# удаляем пробельные элементы\n",
    "file = file.read().lower()\n",
    "fileList = re.split('[^a-z]', file)\n",
    "fileList = [x for x in fileList if x]\n",
    "\n",
    "# добавляем в словарь неповторяющиеся эементы,\n",
    "# делаем копию словаря\n",
    "words = {}\n",
    "number = 0\n",
    "for x in fileList:\n",
    "    if x not in words:\n",
    "        words[x] = number\n",
    "        number += 1\n",
    "\n",
    "copyWords = words.copy()\n",
    "\n",
    "# обнуляем значения первого словаря,\n",
    "# чтобы подсчитать колличество \n",
    "# повторений слова в тексте\n",
    "for x in words:\n",
    "    words[x] = 0\n",
    "for x in fileList:\n",
    "    for y in words:\n",
    "        if y == x:\n",
    "            words[y] += 1\n",
    "\n",
    "matrix = np.zeros((lines, number), 'int')\n",
    "\n",
    "for x in copyWords:\n",
    "    m = 0\n",
    "    for line in open('sent.txt', 'r'):\n",
    "        line = line.lower()\n",
    "        token = re.split('[^a-z]', line)\n",
    "        matrix[m][copyWords[x]] = token.count(x)\n",
    "        m += 1\n",
    "print(matrix)\n",
    "#считаем косинусное расстоняие\n",
    "res = {}\n",
    "for n in range(lines):\n",
    "    answ = round((sp.distance.cosine(matrix[0],matrix[n])), 2)\n",
    "    res[n] = answ\n",
    "\n",
    "# сортировка по значению\n",
    "res = sorted(res.items(), key=operator.itemgetter(1))\n",
    "\n",
    "# два наиболее похожих предложения на первое\n",
    "first = res[1]\n",
    "second = res[2]\n",
    "\n",
    "print(res)"
   ]
  }
 ],
 "metadata": {
  "kernelspec": {
   "display_name": "Python 3",
   "language": "python",
   "name": "python3"
  },
  "language_info": {
   "codemirror_mode": {
    "name": "ipython",
    "version": 3
   },
   "file_extension": ".py",
   "mimetype": "text/x-python",
   "name": "python",
   "nbconvert_exporter": "python",
   "pygments_lexer": "ipython3",
   "version": "3.7.3"
  },
  "pycharm": {
   "stem_cell": {
    "cell_type": "raw",
    "metadata": {
     "collapsed": false
    },
    "source": []
   }
  }
 },
 "nbformat": 4,
 "nbformat_minor": 2
}
